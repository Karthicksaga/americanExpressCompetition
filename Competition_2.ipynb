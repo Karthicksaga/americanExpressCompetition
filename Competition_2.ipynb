{
  "nbformat": 4,
  "nbformat_minor": 0,
  "metadata": {
    "colab": {
      "name": "Competition_2.ipynb",
      "provenance": []
    },
    "kernelspec": {
      "name": "python3",
      "display_name": "Python 3"
    },
    "language_info": {
      "name": "python"
    }
  },
  "cells": [
    {
      "cell_type": "code",
      "metadata": {
        "colab": {
          "base_uri": "https://localhost:8080/"
        },
        "id": "93b_hzKsMoIF",
        "outputId": "eb2c317e-4b88-44a6-8c11-60579035d928"
      },
      "source": [
        "import pandas as pd\n",
        "import matplotlib.pyplot as plt\n",
        "import re\n",
        "import time\n",
        "import warnings\n",
        "import numpy as np\n",
        "from nltk.corpus import stopwords\n",
        "from sklearn.decomposition import TruncatedSVD\n",
        "from sklearn.preprocessing import normalize\n",
        "from sklearn.feature_extraction.text import CountVectorizer\n",
        "from sklearn.manifold import TSNE\n",
        "import seaborn as sns\n",
        "from sklearn.neighbors import KNeighborsClassifier\n",
        "from sklearn.metrics import confusion_matrix\n",
        "from sklearn.metrics import accuracy_score, log_loss\n",
        "from sklearn.feature_extraction.text import TfidfVectorizer\n",
        "from sklearn.linear_model import SGDClassifier\n",
        "from imblearn.over_sampling import SMOTE\n",
        "from collections import Counter\n",
        "from scipy.sparse import hstack\n",
        "from sklearn.multiclass import OneVsRestClassifier\n",
        "from sklearn.svm import SVC\n",
        "from sklearn.model_selection import StratifiedKFold \n",
        "from collections import Counter, defaultdict\n",
        "from sklearn.calibration import CalibratedClassifierCV\n",
        "from sklearn.naive_bayes import MultinomialNB\n",
        "from sklearn.naive_bayes import GaussianNB\n",
        "from sklearn.model_selection import train_test_split\n",
        "from sklearn.model_selection import GridSearchCV\n",
        "import math\n",
        "from sklearn.metrics import normalized_mutual_info_score\n",
        "from sklearn.ensemble import RandomForestClassifier\n",
        "warnings.filterwarnings(\"ignore\")\n",
        "\n",
        "from mlxtend.classifier import StackingClassifier\n",
        "\n",
        "from sklearn import model_selection\n",
        "from sklearn.linear_model import LogisticRegression\n",
        "from sklearn.metrics import  f1_score,average_precision_score\n",
        "from datetime import datetime"
      ],
      "execution_count": null,
      "outputs": [
        {
          "output_type": "stream",
          "name": "stderr",
          "text": [
            "/usr/local/lib/python3.7/dist-packages/sklearn/externals/six.py:31: FutureWarning: The module is deprecated in version 0.21 and will be removed in version 0.23 since we've dropped support for Python 2.7. Please rely on the official version of six (https://pypi.org/project/six/).\n",
            "  \"(https://pypi.org/project/six/).\", FutureWarning)\n",
            "/usr/local/lib/python3.7/dist-packages/sklearn/utils/deprecation.py:144: FutureWarning: The sklearn.neighbors.base module is  deprecated in version 0.22 and will be removed in version 0.24. The corresponding classes / functions should instead be imported from sklearn.neighbors. Anything that cannot be imported from sklearn.neighbors is now part of the private API.\n",
            "  warnings.warn(message, FutureWarning)\n"
          ]
        }
      ]
    },
    {
      "cell_type": "code",
      "metadata": {
        "colab": {
          "base_uri": "https://localhost:8080/",
          "height": 225
        },
        "id": "zBl2KwPrMt8e",
        "outputId": "b89d80a1-d84a-4a73-8506-00253c3b375a"
      },
      "source": [
        "data_frame = pd.read_csv(\"/content/train_go05W65.csv\")\n",
        "data_frame.head()\n"
      ],
      "execution_count": null,
      "outputs": [
        {
          "output_type": "execute_result",
          "data": {
            "text/html": [
              "<div>\n",
              "<style scoped>\n",
              "    .dataframe tbody tr th:only-of-type {\n",
              "        vertical-align: middle;\n",
              "    }\n",
              "\n",
              "    .dataframe tbody tr th {\n",
              "        vertical-align: top;\n",
              "    }\n",
              "\n",
              "    .dataframe thead th {\n",
              "        text-align: right;\n",
              "    }\n",
              "</style>\n",
              "<table border=\"1\" class=\"dataframe\">\n",
              "  <thead>\n",
              "    <tr style=\"text-align: right;\">\n",
              "      <th></th>\n",
              "      <th>Customer_ID</th>\n",
              "      <th>Gender</th>\n",
              "      <th>Age</th>\n",
              "      <th>Vintage</th>\n",
              "      <th>Is_Active</th>\n",
              "      <th>City_Category</th>\n",
              "      <th>Customer_Category</th>\n",
              "      <th>Product_Holding_B1</th>\n",
              "      <th>Product_Holding_B2</th>\n",
              "    </tr>\n",
              "  </thead>\n",
              "  <tbody>\n",
              "    <tr>\n",
              "      <th>0</th>\n",
              "      <td>CC264719</td>\n",
              "      <td>Male</td>\n",
              "      <td>41</td>\n",
              "      <td>14</td>\n",
              "      <td>0</td>\n",
              "      <td>C1</td>\n",
              "      <td>S3</td>\n",
              "      <td>['P16']</td>\n",
              "      <td>['P8']</td>\n",
              "    </tr>\n",
              "    <tr>\n",
              "      <th>1</th>\n",
              "      <td>CC209679</td>\n",
              "      <td>Female</td>\n",
              "      <td>47</td>\n",
              "      <td>14</td>\n",
              "      <td>1</td>\n",
              "      <td>C1</td>\n",
              "      <td>S2</td>\n",
              "      <td>['P13', 'P20']</td>\n",
              "      <td>['P3']</td>\n",
              "    </tr>\n",
              "    <tr>\n",
              "      <th>2</th>\n",
              "      <td>CC319633</td>\n",
              "      <td>Female</td>\n",
              "      <td>59</td>\n",
              "      <td>14</td>\n",
              "      <td>0</td>\n",
              "      <td>C2</td>\n",
              "      <td>S2</td>\n",
              "      <td>['P11']</td>\n",
              "      <td>['P00']</td>\n",
              "    </tr>\n",
              "    <tr>\n",
              "      <th>3</th>\n",
              "      <td>CC231413</td>\n",
              "      <td>Female</td>\n",
              "      <td>32</td>\n",
              "      <td>16</td>\n",
              "      <td>0</td>\n",
              "      <td>C1</td>\n",
              "      <td>S2</td>\n",
              "      <td>['P8', 'P13']</td>\n",
              "      <td>['P6']</td>\n",
              "    </tr>\n",
              "    <tr>\n",
              "      <th>4</th>\n",
              "      <td>CC259633</td>\n",
              "      <td>Male</td>\n",
              "      <td>30</td>\n",
              "      <td>15</td>\n",
              "      <td>0</td>\n",
              "      <td>C2</td>\n",
              "      <td>S3</td>\n",
              "      <td>['P16', 'P17', 'P21']</td>\n",
              "      <td>['P8', 'P12']</td>\n",
              "    </tr>\n",
              "  </tbody>\n",
              "</table>\n",
              "</div>"
            ],
            "text/plain": [
              "  Customer_ID  Gender  ...     Product_Holding_B1  Product_Holding_B2\n",
              "0    CC264719    Male  ...                ['P16']              ['P8']\n",
              "1    CC209679  Female  ...         ['P13', 'P20']              ['P3']\n",
              "2    CC319633  Female  ...                ['P11']             ['P00']\n",
              "3    CC231413  Female  ...          ['P8', 'P13']              ['P6']\n",
              "4    CC259633    Male  ...  ['P16', 'P17', 'P21']       ['P8', 'P12']\n",
              "\n",
              "[5 rows x 9 columns]"
            ]
          },
          "metadata": {},
          "execution_count": 2
        }
      ]
    },
    {
      "cell_type": "code",
      "metadata": {
        "colab": {
          "base_uri": "https://localhost:8080/",
          "height": 205
        },
        "id": "IPEnaHvzNIRI",
        "outputId": "1bdabf88-17fe-49af-98f4-b21fceeec891"
      },
      "source": [
        "data_frame_test = pd.read_csv(\"/content/test_VkM91FT.csv\")\n",
        "data_frame_test.head()"
      ],
      "execution_count": null,
      "outputs": [
        {
          "output_type": "execute_result",
          "data": {
            "text/html": [
              "<div>\n",
              "<style scoped>\n",
              "    .dataframe tbody tr th:only-of-type {\n",
              "        vertical-align: middle;\n",
              "    }\n",
              "\n",
              "    .dataframe tbody tr th {\n",
              "        vertical-align: top;\n",
              "    }\n",
              "\n",
              "    .dataframe thead th {\n",
              "        text-align: right;\n",
              "    }\n",
              "</style>\n",
              "<table border=\"1\" class=\"dataframe\">\n",
              "  <thead>\n",
              "    <tr style=\"text-align: right;\">\n",
              "      <th></th>\n",
              "      <th>Customer_ID</th>\n",
              "      <th>Gender</th>\n",
              "      <th>Age</th>\n",
              "      <th>Vintage</th>\n",
              "      <th>Is_Active</th>\n",
              "      <th>City_Category</th>\n",
              "      <th>Customer_Category</th>\n",
              "      <th>Product_Holding_B1</th>\n",
              "    </tr>\n",
              "  </thead>\n",
              "  <tbody>\n",
              "    <tr>\n",
              "      <th>0</th>\n",
              "      <td>CC372708</td>\n",
              "      <td>Female</td>\n",
              "      <td>31</td>\n",
              "      <td>31</td>\n",
              "      <td>0</td>\n",
              "      <td>C2</td>\n",
              "      <td>S3</td>\n",
              "      <td>['P12', 'P13']</td>\n",
              "    </tr>\n",
              "    <tr>\n",
              "      <th>1</th>\n",
              "      <td>CC216072</td>\n",
              "      <td>Male</td>\n",
              "      <td>28</td>\n",
              "      <td>37</td>\n",
              "      <td>1</td>\n",
              "      <td>C1</td>\n",
              "      <td>S2</td>\n",
              "      <td>['P12', 'P13']</td>\n",
              "    </tr>\n",
              "    <tr>\n",
              "      <th>2</th>\n",
              "      <td>CC387629</td>\n",
              "      <td>Male</td>\n",
              "      <td>31</td>\n",
              "      <td>12</td>\n",
              "      <td>0</td>\n",
              "      <td>C2</td>\n",
              "      <td>S3</td>\n",
              "      <td>['P20']</td>\n",
              "    </tr>\n",
              "    <tr>\n",
              "      <th>3</th>\n",
              "      <td>CC389228</td>\n",
              "      <td>Female</td>\n",
              "      <td>55</td>\n",
              "      <td>11</td>\n",
              "      <td>0</td>\n",
              "      <td>C2</td>\n",
              "      <td>S2</td>\n",
              "      <td>['P13', 'P21']</td>\n",
              "    </tr>\n",
              "    <tr>\n",
              "      <th>4</th>\n",
              "      <td>CC394445</td>\n",
              "      <td>Male</td>\n",
              "      <td>51</td>\n",
              "      <td>49</td>\n",
              "      <td>1</td>\n",
              "      <td>C2</td>\n",
              "      <td>S1</td>\n",
              "      <td>['P13']</td>\n",
              "    </tr>\n",
              "  </tbody>\n",
              "</table>\n",
              "</div>"
            ],
            "text/plain": [
              "  Customer_ID  Gender  Age  ...  City_Category  Customer_Category Product_Holding_B1\n",
              "0    CC372708  Female   31  ...             C2                 S3     ['P12', 'P13']\n",
              "1    CC216072    Male   28  ...             C1                 S2     ['P12', 'P13']\n",
              "2    CC387629    Male   31  ...             C2                 S3            ['P20']\n",
              "3    CC389228  Female   55  ...             C2                 S2     ['P13', 'P21']\n",
              "4    CC394445    Male   51  ...             C2                 S1            ['P13']\n",
              "\n",
              "[5 rows x 8 columns]"
            ]
          },
          "metadata": {},
          "execution_count": 3
        }
      ]
    },
    {
      "cell_type": "code",
      "metadata": {
        "colab": {
          "base_uri": "https://localhost:8080/"
        },
        "id": "xor8Ee-NNL5A",
        "outputId": "3f26fdda-e9cb-4edd-e4f8-aab8d1982c23"
      },
      "source": [
        "data_frame.info()"
      ],
      "execution_count": null,
      "outputs": [
        {
          "output_type": "stream",
          "name": "stdout",
          "text": [
            "<class 'pandas.core.frame.DataFrame'>\n",
            "RangeIndex: 37748 entries, 0 to 37747\n",
            "Data columns (total 9 columns):\n",
            " #   Column              Non-Null Count  Dtype \n",
            "---  ------              --------------  ----- \n",
            " 0   Customer_ID         37748 non-null  object\n",
            " 1   Gender              37748 non-null  object\n",
            " 2   Age                 37748 non-null  int64 \n",
            " 3   Vintage             37748 non-null  int64 \n",
            " 4   Is_Active           37748 non-null  int64 \n",
            " 5   City_Category       37748 non-null  object\n",
            " 6   Customer_Category   37748 non-null  object\n",
            " 7   Product_Holding_B1  37748 non-null  object\n",
            " 8   Product_Holding_B2  37748 non-null  object\n",
            "dtypes: int64(3), object(6)\n",
            "memory usage: 2.6+ MB\n"
          ]
        }
      ]
    },
    {
      "cell_type": "code",
      "metadata": {
        "colab": {
          "base_uri": "https://localhost:8080/"
        },
        "id": "wHtNl0TTNW2P",
        "outputId": "7e7c6f62-8711-47a2-eea2-6fbd593b7392"
      },
      "source": [
        "data_frame_test.info()"
      ],
      "execution_count": null,
      "outputs": [
        {
          "output_type": "stream",
          "name": "stdout",
          "text": [
            "<class 'pandas.core.frame.DataFrame'>\n",
            "RangeIndex: 20327 entries, 0 to 20326\n",
            "Data columns (total 8 columns):\n",
            " #   Column              Non-Null Count  Dtype \n",
            "---  ------              --------------  ----- \n",
            " 0   Customer_ID         20327 non-null  object\n",
            " 1   Gender              20327 non-null  object\n",
            " 2   Age                 20327 non-null  int64 \n",
            " 3   Vintage             20327 non-null  int64 \n",
            " 4   Is_Active           20327 non-null  int64 \n",
            " 5   City_Category       20327 non-null  object\n",
            " 6   Customer_Category   20327 non-null  object\n",
            " 7   Product_Holding_B1  20327 non-null  object\n",
            "dtypes: int64(3), object(5)\n",
            "memory usage: 1.2+ MB\n"
          ]
        }
      ]
    },
    {
      "cell_type": "code",
      "metadata": {
        "colab": {
          "base_uri": "https://localhost:8080/"
        },
        "id": "K7vmntJoNaHO",
        "outputId": "38eaa3b7-75ea-4825-d308-b80609521e95"
      },
      "source": [
        "#count the unique id in the column  the categorical label \n",
        "#is there is any duplicate customer in the data \n",
        "data_frame.Customer_ID.nunique()"
      ],
      "execution_count": null,
      "outputs": [
        {
          "output_type": "execute_result",
          "data": {
            "text/plain": [
              "37748"
            ]
          },
          "metadata": {},
          "execution_count": 6
        }
      ]
    },
    {
      "cell_type": "code",
      "metadata": {
        "colab": {
          "base_uri": "https://localhost:8080/",
          "height": 297
        },
        "id": "8T9kLtoJNfbJ",
        "outputId": "66aaef1e-38b1-4db4-ebf6-abfad4eb2c19"
      },
      "source": [
        "#Lets see the age distributiion\n",
        "sns.distplot(data_frame['Age'],hist = True)"
      ],
      "execution_count": null,
      "outputs": [
        {
          "output_type": "execute_result",
          "data": {
            "text/plain": [
              "<matplotlib.axes._subplots.AxesSubplot at 0x7f397d925510>"
            ]
          },
          "metadata": {},
          "execution_count": 7
        },
        {
          "output_type": "display_data",
          "data": {
            "image/png": "[encoded data removed]",
            "text/plain": [
              "<Figure size 432x288 with 1 Axes>"
            ]
          },
          "metadata": {
            "needs_background": "light"
          }
        }
      ]
    },
    {
      "cell_type": "code",
      "metadata": {
        "colab": {
          "base_uri": "https://localhost:8080/",
          "height": 297
        },
        "id": "pVL4WRXCNiJZ",
        "outputId": "9ce09221-af6b-4744-b3a8-e1e6cdfcde5c"
      },
      "source": [
        "sns.distplot(data_frame['Vintage'],hist = True)"
      ],
      "execution_count": null,
      "outputs": [
        {
          "output_type": "execute_result",
          "data": {
            "text/plain": [
              "<matplotlib.axes._subplots.AxesSubplot at 0x7f39725630d0>"
            ]
          },
          "metadata": {},
          "execution_count": 8
        },
        {
          "output_type": "display_data",
          "data": {
            "image/png": "[encoded data removed]",
            "text/plain": [
              "<Figure size 432x288 with 1 Axes>"
            ]
          },
          "metadata": {
            "needs_background": "light"
          }
        }
      ]
    },
    {
      "cell_type": "code",
      "metadata": {
        "id": "tbfcm5RZNkx0"
      },
      "source": [
        "def unique_category(data,column):\n",
        "    \n",
        "    print(\"Total Number of Unique Category :{0}\".format(data[column].nunique()))\n",
        "    print(\"Unique Category : {0}\".format(data[column].unique()))\n",
        "    \n",
        "    sns.countplot(x = column,data = data)\n",
        "    \n",
        "    "
      ],
      "execution_count": null,
      "outputs": []
    },
    {
      "cell_type": "code",
      "metadata": {
        "colab": {
          "base_uri": "https://localhost:8080/",
          "height": 316
        },
        "id": "njp1_tPCNnRi",
        "outputId": "5e23adab-8550-422c-87cb-781b7c28a714"
      },
      "source": [
        "col = ['Is_Active','City_Category','Customer_Category']\n",
        "unique_category(data_frame,col[0])"
      ],
      "execution_count": null,
      "outputs": [
        {
          "output_type": "stream",
          "name": "stdout",
          "text": [
            "Total Number of Unique Category :2\n",
            "Unique Category : [0 1]\n"
          ]
        },
        {
          "output_type": "display_data",
          "data": {
            "image/png": "[encoded data removed]",
            "text/plain": [
              "<Figure size 432x288 with 1 Axes>"
            ]
          },
          "metadata": {
            "needs_background": "light"
          }
        }
      ]
    },
    {
      "cell_type": "code",
      "metadata": {
        "colab": {
          "base_uri": "https://localhost:8080/",
          "height": 316
        },
        "id": "6rBCNUHPNqQL",
        "outputId": "fe2b2126-a729-4227-d080-36f0626d4a7c"
      },
      "source": [
        "col = ['Is_Active','City_Category','Customer_Category']\n",
        "unique_category(data_frame,col[1])"
      ],
      "execution_count": null,
      "outputs": [
        {
          "output_type": "stream",
          "name": "stdout",
          "text": [
            "Total Number of Unique Category :2\n",
            "Unique Category : ['C1' 'C2']\n"
          ]
        },
        {
          "output_type": "display_data",
          "data": {
            "image/png": "[encoded data removed]",
            "text/plain": [
              "<Figure size 432x288 with 1 Axes>"
            ]
          },
          "metadata": {
            "needs_background": "light"
          }
        }
      ]
    },
    {
      "cell_type": "code",
      "metadata": {
        "colab": {
          "base_uri": "https://localhost:8080/",
          "height": 316
        },
        "id": "n5EGgkjxNszQ",
        "outputId": "9b79cec4-997c-467f-9727-b3bf90cbded7"
      },
      "source": [
        "col = ['Is_Active','City_Category','Customer_Category']\n",
        "unique_category(data_frame,col[2])"
      ],
      "execution_count": null,
      "outputs": [
        {
          "output_type": "stream",
          "name": "stdout",
          "text": [
            "Total Number of Unique Category :3\n",
            "Unique Category : ['S3' 'S2' 'S1']\n"
          ]
        },
        {
          "output_type": "display_data",
          "data": {
            "image/png": "[encoded data removed]",
            "text/plain": [
              "<Figure size 432x288 with 1 Axes>"
            ]
          },
          "metadata": {
            "needs_background": "light"
          }
        }
      ]
    },
    {
      "cell_type": "code",
      "metadata": {
        "colab": {
          "base_uri": "https://localhost:8080/",
          "height": 315
        },
        "id": "scpqsRtBNwMi",
        "outputId": "c0fef5df-11e6-4dbd-b23b-ebc0b25f1fea"
      },
      "source": [
        "col = ['Is_Active','City_Category','Customer_Category']\n",
        "unique_category(data_frame,'Gender')"
      ],
      "execution_count": null,
      "outputs": [
        {
          "output_type": "stream",
          "name": "stdout",
          "text": [
            "Total Number of Unique Category :2\n",
            "Unique Category : ['Male' 'Female']\n"
          ]
        },
        {
          "output_type": "display_data",
          "data": {
            "image/png": "[encoded data removed]",
            "text/plain": [
              "<Figure size 432x288 with 1 Axes>"
            ]
          },
          "metadata": {
            "needs_background": "light"
          }
        }
      ]
    },
    {
      "cell_type": "code",
      "metadata": {
        "id": "VAyA5sLuNyqO"
      },
      "source": [
        "def clean_category(data):\n",
        "\n",
        "    data = data[1:len(data) - 1]\n",
        "    data = data.split(\",\")\n",
        "    data = \"\".join(data)\n",
        "    data =  re.sub(r\"\\'\",\"\",data)        \n",
        "    return data"
      ],
      "execution_count": null,
      "outputs": []
    },
    {
      "cell_type": "code",
      "metadata": {
        "id": "lbNmWovrN1aH"
      },
      "source": [
        "data_frame['product_holding_1_clean'] = data_frame.Product_Holding_B1.apply(lambda data : clean_category(data) )\n",
        "data_frame_test['product_holding_1_clean'] = data_frame_test.Product_Holding_B1.apply(lambda data : clean_category(data) )"
      ],
      "execution_count": null,
      "outputs": []
    },
    {
      "cell_type": "code",
      "metadata": {
        "id": "14I_-wwoOG79"
      },
      "source": [
        "data_frame['product_holding_2_clean'] = data_frame.Product_Holding_B2.apply(lambda data : clean_category(data) )"
      ],
      "execution_count": null,
      "outputs": []
    },
    {
      "cell_type": "code",
      "metadata": {
        "colab": {
          "base_uri": "https://localhost:8080/",
          "height": 244
        },
        "id": "LpK5B4sKOKkg",
        "outputId": "a5140376-7728-452b-a13d-ad7c6d95d83f"
      },
      "source": [
        "\n",
        "start = datetime.now()\n",
        "data_frame[\"product_holding_2_clean_count\"] = data_frame[\"product_holding_2_clean\"].apply(lambda text: len(text.split(\" \")))\n",
        "print(\"Time taken to run this cell :\", datetime.now() - start)\n",
        "data_frame.head()"
      ],
      "execution_count": null,
      "outputs": [
        {
          "output_type": "stream",
          "name": "stdout",
          "text": [
            "Time taken to run this cell : 0:00:00.027419\n"
          ]
        },
        {
          "output_type": "execute_result",
          "data": {
            "text/html": [
              "<div>\n",
              "<style scoped>\n",
              "    .dataframe tbody tr th:only-of-type {\n",
              "        vertical-align: middle;\n",
              "    }\n",
              "\n",
              "    .dataframe tbody tr th {\n",
              "        vertical-align: top;\n",
              "    }\n",
              "\n",
              "    .dataframe thead th {\n",
              "        text-align: right;\n",
              "    }\n",
              "</style>\n",
              "<table border=\"1\" class=\"dataframe\">\n",
              "  <thead>\n",
              "    <tr style=\"text-align: right;\">\n",
              "      <th></th>\n",
              "      <th>Customer_ID</th>\n",
              "      <th>Gender</th>\n",
              "      <th>Age</th>\n",
              "      <th>Vintage</th>\n",
              "      <th>Is_Active</th>\n",
              "      <th>City_Category</th>\n",
              "      <th>Customer_Category</th>\n",
              "      <th>Product_Holding_B1</th>\n",
              "      <th>Product_Holding_B2</th>\n",
              "      <th>product_holding_1_clean</th>\n",
              "      <th>product_holding_2_clean</th>\n",
              "      <th>product_holding_2_clean_count</th>\n",
              "    </tr>\n",
              "  </thead>\n",
              "  <tbody>\n",
              "    <tr>\n",
              "      <th>0</th>\n",
              "      <td>CC264719</td>\n",
              "      <td>Male</td>\n",
              "      <td>41</td>\n",
              "      <td>14</td>\n",
              "      <td>0</td>\n",
              "      <td>C1</td>\n",
              "      <td>S3</td>\n",
              "      <td>['P16']</td>\n",
              "      <td>['P8']</td>\n",
              "      <td>P16</td>\n",
              "      <td>P8</td>\n",
              "      <td>1</td>\n",
              "    </tr>\n",
              "    <tr>\n",
              "      <th>1</th>\n",
              "      <td>CC209679</td>\n",
              "      <td>Female</td>\n",
              "      <td>47</td>\n",
              "      <td>14</td>\n",
              "      <td>1</td>\n",
              "      <td>C1</td>\n",
              "      <td>S2</td>\n",
              "      <td>['P13', 'P20']</td>\n",
              "      <td>['P3']</td>\n",
              "      <td>P13 P20</td>\n",
              "      <td>P3</td>\n",
              "      <td>1</td>\n",
              "    </tr>\n",
              "    <tr>\n",
              "      <th>2</th>\n",
              "      <td>CC319633</td>\n",
              "      <td>Female</td>\n",
              "      <td>59</td>\n",
              "      <td>14</td>\n",
              "      <td>0</td>\n",
              "      <td>C2</td>\n",
              "      <td>S2</td>\n",
              "      <td>['P11']</td>\n",
              "      <td>['P00']</td>\n",
              "      <td>P11</td>\n",
              "      <td>P00</td>\n",
              "      <td>1</td>\n",
              "    </tr>\n",
              "    <tr>\n",
              "      <th>3</th>\n",
              "      <td>CC231413</td>\n",
              "      <td>Female</td>\n",
              "      <td>32</td>\n",
              "      <td>16</td>\n",
              "      <td>0</td>\n",
              "      <td>C1</td>\n",
              "      <td>S2</td>\n",
              "      <td>['P8', 'P13']</td>\n",
              "      <td>['P6']</td>\n",
              "      <td>P8 P13</td>\n",
              "      <td>P6</td>\n",
              "      <td>1</td>\n",
              "    </tr>\n",
              "    <tr>\n",
              "      <th>4</th>\n",
              "      <td>CC259633</td>\n",
              "      <td>Male</td>\n",
              "      <td>30</td>\n",
              "      <td>15</td>\n",
              "      <td>0</td>\n",
              "      <td>C2</td>\n",
              "      <td>S3</td>\n",
              "      <td>['P16', 'P17', 'P21']</td>\n",
              "      <td>['P8', 'P12']</td>\n",
              "      <td>P16 P17 P21</td>\n",
              "      <td>P8 P12</td>\n",
              "      <td>2</td>\n",
              "    </tr>\n",
              "  </tbody>\n",
              "</table>\n",
              "</div>"
            ],
            "text/plain": [
              "  Customer_ID  Gender  ...  product_holding_2_clean  product_holding_2_clean_count\n",
              "0    CC264719    Male  ...                       P8                              1\n",
              "1    CC209679  Female  ...                       P3                              1\n",
              "2    CC319633  Female  ...                      P00                              1\n",
              "3    CC231413  Female  ...                       P6                              1\n",
              "4    CC259633    Male  ...                   P8 P12                              2\n",
              "\n",
              "[5 rows x 12 columns]"
            ]
          },
          "metadata": {},
          "execution_count": 17
        }
      ]
    },
    {
      "cell_type": "code",
      "metadata": {
        "colab": {
          "base_uri": "https://localhost:8080/",
          "height": 244
        },
        "id": "NixhJlTdOQPU",
        "outputId": "36dab244-869d-4960-c087-97bc789723ab"
      },
      "source": [
        "\n",
        "start = datetime.now()\n",
        "data_frame[\"product_holding_1_clean_count\"] = data_frame[\"product_holding_1_clean\"].apply(lambda text: len(text.split(\" \")))\n",
        "print(\"Time taken to run this cell :\", datetime.now() - start)\n",
        "data_frame.head()"
      ],
      "execution_count": null,
      "outputs": [
        {
          "output_type": "stream",
          "name": "stdout",
          "text": [
            "Time taken to run this cell : 0:00:00.033497\n"
          ]
        },
        {
          "output_type": "execute_result",
          "data": {
            "text/html": [
              "<div>\n",
              "<style scoped>\n",
              "    .dataframe tbody tr th:only-of-type {\n",
              "        vertical-align: middle;\n",
              "    }\n",
              "\n",
              "    .dataframe tbody tr th {\n",
              "        vertical-align: top;\n",
              "    }\n",
              "\n",
              "    .dataframe thead th {\n",
              "        text-align: right;\n",
              "    }\n",
              "</style>\n",
              "<table border=\"1\" class=\"dataframe\">\n",
              "  <thead>\n",
              "    <tr style=\"text-align: right;\">\n",
              "      <th></th>\n",
              "      <th>Customer_ID</th>\n",
              "      <th>Gender</th>\n",
              "      <th>Age</th>\n",
              "      <th>Vintage</th>\n",
              "      <th>Is_Active</th>\n",
              "      <th>City_Category</th>\n",
              "      <th>Customer_Category</th>\n",
              "      <th>Product_Holding_B1</th>\n",
              "      <th>Product_Holding_B2</th>\n",
              "      <th>product_holding_1_clean</th>\n",
              "      <th>product_holding_2_clean</th>\n",
              "      <th>product_holding_2_clean_count</th>\n",
              "      <th>product_holding_1_clean_count</th>\n",
              "    </tr>\n",
              "  </thead>\n",
              "  <tbody>\n",
              "    <tr>\n",
              "      <th>0</th>\n",
              "      <td>CC264719</td>\n",
              "      <td>Male</td>\n",
              "      <td>41</td>\n",
              "      <td>14</td>\n",
              "      <td>0</td>\n",
              "      <td>C1</td>\n",
              "      <td>S3</td>\n",
              "      <td>['P16']</td>\n",
              "      <td>['P8']</td>\n",
              "      <td>P16</td>\n",
              "      <td>P8</td>\n",
              "      <td>1</td>\n",
              "      <td>1</td>\n",
              "    </tr>\n",
              "    <tr>\n",
              "      <th>1</th>\n",
              "      <td>CC209679</td>\n",
              "      <td>Female</td>\n",
              "      <td>47</td>\n",
              "      <td>14</td>\n",
              "      <td>1</td>\n",
              "      <td>C1</td>\n",
              "      <td>S2</td>\n",
              "      <td>['P13', 'P20']</td>\n",
              "      <td>['P3']</td>\n",
              "      <td>P13 P20</td>\n",
              "      <td>P3</td>\n",
              "      <td>1</td>\n",
              "      <td>2</td>\n",
              "    </tr>\n",
              "    <tr>\n",
              "      <th>2</th>\n",
              "      <td>CC319633</td>\n",
              "      <td>Female</td>\n",
              "      <td>59</td>\n",
              "      <td>14</td>\n",
              "      <td>0</td>\n",
              "      <td>C2</td>\n",
              "      <td>S2</td>\n",
              "      <td>['P11']</td>\n",
              "      <td>['P00']</td>\n",
              "      <td>P11</td>\n",
              "      <td>P00</td>\n",
              "      <td>1</td>\n",
              "      <td>1</td>\n",
              "    </tr>\n",
              "    <tr>\n",
              "      <th>3</th>\n",
              "      <td>CC231413</td>\n",
              "      <td>Female</td>\n",
              "      <td>32</td>\n",
              "      <td>16</td>\n",
              "      <td>0</td>\n",
              "      <td>C1</td>\n",
              "      <td>S2</td>\n",
              "      <td>['P8', 'P13']</td>\n",
              "      <td>['P6']</td>\n",
              "      <td>P8 P13</td>\n",
              "      <td>P6</td>\n",
              "      <td>1</td>\n",
              "      <td>2</td>\n",
              "    </tr>\n",
              "    <tr>\n",
              "      <th>4</th>\n",
              "      <td>CC259633</td>\n",
              "      <td>Male</td>\n",
              "      <td>30</td>\n",
              "      <td>15</td>\n",
              "      <td>0</td>\n",
              "      <td>C2</td>\n",
              "      <td>S3</td>\n",
              "      <td>['P16', 'P17', 'P21']</td>\n",
              "      <td>['P8', 'P12']</td>\n",
              "      <td>P16 P17 P21</td>\n",
              "      <td>P8 P12</td>\n",
              "      <td>2</td>\n",
              "      <td>3</td>\n",
              "    </tr>\n",
              "  </tbody>\n",
              "</table>\n",
              "</div>"
            ],
            "text/plain": [
              "  Customer_ID  ... product_holding_1_clean_count\n",
              "0    CC264719  ...                             1\n",
              "1    CC209679  ...                             2\n",
              "2    CC319633  ...                             1\n",
              "3    CC231413  ...                             2\n",
              "4    CC259633  ...                             3\n",
              "\n",
              "[5 rows x 13 columns]"
            ]
          },
          "metadata": {},
          "execution_count": 18
        }
      ]
    },
    {
      "cell_type": "code",
      "metadata": {
        "colab": {
          "base_uri": "https://localhost:8080/"
        },
        "id": "82CT_5TgOhrx",
        "outputId": "6315a47f-ee7f-4be3-b0df-9a5ee1db9d9c"
      },
      "source": [
        "data_frame.product_holding_1_clean_count.value_counts()"
      ],
      "execution_count": null,
      "outputs": [
        {
          "output_type": "execute_result",
          "data": {
            "text/plain": [
              "1    19696\n",
              "2    12421\n",
              "3     3986\n",
              "4     1242\n",
              "5      320\n",
              "6       71\n",
              "7        9\n",
              "8        3\n",
              "Name: product_holding_1_clean_count, dtype: int64"
            ]
          },
          "metadata": {},
          "execution_count": 19
        }
      ]
    },
    {
      "cell_type": "code",
      "metadata": {
        "id": "69yHHyKpOnFY"
      },
      "source": [
        "# Importing & Initializing the \"CountVectorizer\" object, which \n",
        "#is scikit-learn's bag of words tool.\n",
        "\n",
        "#by default 'split()' will tokenize each tag using space.\n",
        "vectorizer_t = CountVectorizer(tokenizer = lambda x: x.split())\n",
        "# fit_transform() does two functions: First, it fits the model\n",
        "# and learns the vocabulary; second, it transforms our training data\n",
        "# into feature vectors. The input to fit_transform should be a list of strings.\n",
        "tag_dtm = vectorizer_t.fit_transform(data_frame['product_holding_2_clean'])"
      ],
      "execution_count": null,
      "outputs": []
    },
    {
      "cell_type": "code",
      "metadata": {
        "colab": {
          "base_uri": "https://localhost:8080/"
        },
        "id": "LsTQ5yU2Otty",
        "outputId": "5529c721-1658-4032-b8ae-7f94c7b3a2b6"
      },
      "source": [
        "print(\"Total Feature Names : {0}\".format(sorted(vectorizer_t.get_feature_names())))"
      ],
      "execution_count": null,
      "outputs": [
        {
          "output_type": "stream",
          "name": "stdout",
          "text": [
            "Total Feature Names : ['p00', 'p1', 'p10', 'p11', 'p12', 'p13', 'p14', 'p15', 'p16', 'p17', 'p18', 'p2', 'p20', 'p3', 'p4', 'p5', 'p6', 'p7', 'p8', 'p9']\n"
          ]
        }
      ]
    },
    {
      "cell_type": "code",
      "metadata": {
        "colab": {
          "base_uri": "https://localhost:8080/"
        },
        "id": "nUu_LJaOOwwo",
        "outputId": "2f4e85f4-ca43-407d-e526-8867bd0ae36b"
      },
      "source": [
        "# Importing & Initializing the \"CountVectorizer\" object, which \n",
        "#is scikit-learn's bag of words tool.\n",
        "\n",
        "#by default 'split()' will tokenize each tag using space.\n",
        "vectorizer = CountVectorizer(tokenizer = lambda x: x.split())\n",
        "# fit_transform() does two functions: First, it fits the model\n",
        "# and learns the vocabulary; second, it transforms our training data\n",
        "# into feature vectors. The input to fit_transform should be a list of strings.\n",
        "product1 = vectorizer.fit_transform(data_frame['product_holding_1_clean'])\n",
        "print(product1.shape)"
      ],
      "execution_count": null,
      "outputs": [
        {
          "output_type": "stream",
          "name": "stdout",
          "text": [
            "(37748, 22)\n"
          ]
        }
      ]
    },
    {
      "cell_type": "code",
      "metadata": {
        "id": "vvVvkunIO1ds"
      },
      "source": [
        "features = vectorizer_t.get_feature_names()"
      ],
      "execution_count": null,
      "outputs": []
    },
    {
      "cell_type": "code",
      "metadata": {
        "colab": {
          "base_uri": "https://localhost:8080/"
        },
        "id": "QyakeHxdO364",
        "outputId": "7bb6a905-ce7e-452f-a377-e7e1f825afc7"
      },
      "source": [
        "#howmany times the label present\n",
        "\n",
        "freq = dict(zip(features,[0]*(len(features))))\n",
        "print(freq)"
      ],
      "execution_count": null,
      "outputs": [
        {
          "output_type": "stream",
          "name": "stdout",
          "text": [
            "{'p00': 0, 'p1': 0, 'p10': 0, 'p11': 0, 'p12': 0, 'p13': 0, 'p14': 0, 'p15': 0, 'p16': 0, 'p17': 0, 'p18': 0, 'p2': 0, 'p20': 0, 'p3': 0, 'p4': 0, 'p5': 0, 'p6': 0, 'p7': 0, 'p8': 0, 'p9': 0}\n"
          ]
        }
      ]
    },
    {
      "cell_type": "code",
      "metadata": {
        "id": "LnPhWniKO5_a"
      },
      "source": [
        "def number_of_times_words_present(data,freq):\n",
        "    \n",
        "    for row in data:\n",
        "        \n",
        "        for label in row.split(\" \"):\n",
        "            \n",
        "            if label.lower() in freq:\n",
        "                \n",
        "                freq[label.lower()] += 1\n",
        "    return freq\n",
        "        "
      ],
      "execution_count": null,
      "outputs": []
    },
    {
      "cell_type": "code",
      "metadata": {
        "id": "EpDQLPA0O8hP"
      },
      "source": [
        "unique_label_occrence = number_of_times_words_present(data_frame.product_holding_2_clean.to_numpy(),freq)"
      ],
      "execution_count": null,
      "outputs": []
    },
    {
      "cell_type": "code",
      "metadata": {
        "id": "HxOl4wkjO_Qk"
      },
      "source": [
        "label_names = unique_label_occrence.keys()\n",
        "label_values = list(unique_label_occrence.values())\n",
        "label_values.sort()"
      ],
      "execution_count": null,
      "outputs": []
    },
    {
      "cell_type": "code",
      "metadata": {
        "colab": {
          "base_uri": "https://localhost:8080/",
          "height": 295
        },
        "id": "WdCLJf8MPm1_",
        "outputId": "9ff3508e-5a45-4c98-b7de-ec166cf5093a"
      },
      "source": [
        "plt.plot(label_values)\n",
        "plt.title(\"Distribution of number of times Label Appeared\")\n",
        "plt.grid()\n",
        "plt.xlabel(\"Product number\")\n",
        "plt.ylabel(\"Number of times Product appeared\")\n",
        "plt.show()"
      ],
      "execution_count": null,
      "outputs": [
        {
          "output_type": "display_data",
          "data": {
            "image/png": "[encoded data removed]",
            "text/plain": [
              "<Figure size 432x288 with 1 Axes>"
            ]
          },
          "metadata": {
            "needs_background": "light"
          }
        }
      ]
    },
    {
      "cell_type": "code",
      "metadata": {
        "colab": {
          "base_uri": "https://localhost:8080/",
          "height": 593
        },
        "id": "je-BuBAGPo_y",
        "outputId": "e32db44a-8305-46dc-b755-3ec16dbced96"
      },
      "source": [
        "#howmany  product present in each data \n",
        "plt.figure(figsize = (10,10))\n",
        "data_frame.product_holding_2_clean_count.value_counts().plot.pie(autopct = \"%0.2f%%\" ,shadow = True )\n"
      ],
      "execution_count": null,
      "outputs": [
        {
          "output_type": "execute_result",
          "data": {
            "text/plain": [
              "<matplotlib.axes._subplots.AxesSubplot at 0x7f3971826ed0>"
            ]
          },
          "metadata": {},
          "execution_count": 29
        },
        {
          "output_type": "display_data",
          "data": {
            "image/png": "[encoded data removed]",
            "text/plain": [
              "<Figure size 720x720 with 1 Axes>"
            ]
          },
          "metadata": {}
        }
      ]
    },
    {
      "cell_type": "code",
      "metadata": {
        "colab": {
          "base_uri": "https://localhost:8080/"
        },
        "id": "IVfB2zyJPsxK",
        "outputId": "f455c367-badd-49a2-cf91-9ac659e659a3"
      },
      "source": [
        "vectorizer = CountVectorizer(tokenizer = lambda x: x.split(), binary='true')\n",
        "multilabel_y = vectorizer.fit_transform(data_frame['product_holding_2_clean'])\n",
        "print(multilabel_y.shape)\n",
        "X = data_frame.drop(columns = ['product_holding_2_clean'],axis = 1)\n",
        "y = data_frame['product_holding_2_clean']\n",
        "vectorizer = CountVectorizer(tokenizer = lambda x: x.split(), binary='true')\n",
        "vectorizer.fit(data_frame['product_holding_1_clean'])\n",
        "multilabel_product_x = vectorizer.transform(data_frame['product_holding_1_clean'])\n",
        "print(multilabel_product_x.shape)"
      ],
      "execution_count": null,
      "outputs": [
        {
          "output_type": "stream",
          "name": "stdout",
          "text": [
            "(37748, 20)\n",
            "(37748, 22)\n"
          ]
        }
      ]
    },
    {
      "cell_type": "code",
      "metadata": {
        "colab": {
          "base_uri": "https://localhost:8080/"
        },
        "id": "V8RKxaNjP9-Q",
        "outputId": "ed05dff4-e41c-4e76-e896-d255a1c9d097"
      },
      "source": [
        "test_multilabel_product_x = vectorizer.transform(data_frame_test['product_holding_1_clean'])\n",
        "print(test_multilabel_product_x.shape)"
      ],
      "execution_count": null,
      "outputs": [
        {
          "output_type": "stream",
          "name": "stdout",
          "text": [
            "(20327, 22)\n"
          ]
        }
      ]
    },
    {
      "cell_type": "code",
      "metadata": {
        "id": "X80oTutyQcas"
      },
      "source": [
        "total_size=data_frame.shape[0]\n",
        "train_size=int(0.80*total_size)\n",
        "\n",
        "x_train=data_frame.head(train_size)\n",
        "x_test=data_frame.tail(total_size - train_size)\n",
        "\n",
        "x_train_product_1 = multilabel_product_x[0:train_size,:]\n",
        "x_test_product_1 = multilabel_product_x[train_size:total_size,:]\n",
        "y_train = multilabel_y[0:train_size,:]\n",
        "y_test = multilabel_y[train_size:total_size,:]"
      ],
      "execution_count": null,
      "outputs": []
    },
    {
      "cell_type": "code",
      "metadata": {
        "id": "We3nhLIZQhNQ"
      },
      "source": [
        "drop_columns = ['Customer_ID', 'Product_Holding_B1', 'Product_Holding_B2',\n",
        "       'product_holding_2_clean', 'product_holding_2_clean_count',\n",
        "       'product_holding_1_clean', 'product_holding_1_clean_count']"
      ],
      "execution_count": null,
      "outputs": []
    },
    {
      "cell_type": "code",
      "metadata": {
        "colab": {
          "base_uri": "https://localhost:8080/"
        },
        "id": "0DLQObFQQkSc",
        "outputId": "578d0eb2-46a6-4b29-d884-98a66c60f0d1"
      },
      "source": [
        "x_train.columns"
      ],
      "execution_count": null,
      "outputs": [
        {
          "output_type": "execute_result",
          "data": {
            "text/plain": [
              "Index(['Customer_ID', 'Gender', 'Age', 'Vintage', 'Is_Active', 'City_Category',\n",
              "       'Customer_Category', 'Product_Holding_B1', 'Product_Holding_B2',\n",
              "       'product_holding_1_clean', 'product_holding_2_clean',\n",
              "       'product_holding_2_clean_count', 'product_holding_1_clean_count'],\n",
              "      dtype='object')"
            ]
          },
          "metadata": {},
          "execution_count": 34
        }
      ]
    },
    {
      "cell_type": "code",
      "metadata": {
        "id": "RbQ9E61jQm7f"
      },
      "source": [
        "x_train.drop(columns = drop_columns,axis = 1,inplace = True)\n",
        "x_test.drop(columns = drop_columns,axis = 1,inplace = True)\n"
      ],
      "execution_count": null,
      "outputs": []
    },
    {
      "cell_type": "code",
      "metadata": {
        "colab": {
          "base_uri": "https://localhost:8080/"
        },
        "id": "X78MWwekQpHU",
        "outputId": "1e9e0aaf-449a-498c-ed87-70b0ff19457d"
      },
      "source": [
        "data_frame_test.columns"
      ],
      "execution_count": null,
      "outputs": [
        {
          "output_type": "execute_result",
          "data": {
            "text/plain": [
              "Index(['Customer_ID', 'Gender', 'Age', 'Vintage', 'Is_Active', 'City_Category',\n",
              "       'Customer_Category', 'Product_Holding_B1', 'product_holding_1_clean'],\n",
              "      dtype='object')"
            ]
          },
          "metadata": {},
          "execution_count": 36
        }
      ]
    },
    {
      "cell_type": "code",
      "metadata": {
        "id": "cRNPqhl2ROXw"
      },
      "source": [
        "data_frame_test_copy = data_frame_test.copy()"
      ],
      "execution_count": null,
      "outputs": []
    },
    {
      "cell_type": "code",
      "metadata": {
        "id": "cZHC6WVHQ04W"
      },
      "source": [
        "drop_test_columns = ['Customer_ID', 'Product_Holding_B1',\n",
        "       'product_holding_1_clean']\n",
        "data_frame_test.drop(columns = drop_test_columns,axis = 1, inplace = True)"
      ],
      "execution_count": null,
      "outputs": []
    },
    {
      "cell_type": "code",
      "metadata": {
        "colab": {
          "base_uri": "https://localhost:8080/"
        },
        "id": "UyaufakqReGR",
        "outputId": "9e735534-a0b1-4a94-9eb9-fcf57a2de11a"
      },
      "source": [
        "print(\"After Droping Shape of the Train and Test : {}\".format(x_train.shape))\n",
        "print(\"After Droping Shape of the test and Test : {}\".format(x_test.shape))"
      ],
      "execution_count": null,
      "outputs": [
        {
          "output_type": "stream",
          "name": "stdout",
          "text": [
            "After Droping Shape of the Train and Test : (30198, 6)\n",
            "After Droping Shape of the test and Test : (7550, 6)\n"
          ]
        }
      ]
    },
    {
      "cell_type": "code",
      "metadata": {
        "colab": {
          "base_uri": "https://localhost:8080/"
        },
        "id": "_t0OMHb6Rnb5",
        "outputId": "5690edfe-0c4f-4ab1-964f-1a53b47194d9"
      },
      "source": [
        "x_train.columns"
      ],
      "execution_count": null,
      "outputs": [
        {
          "output_type": "execute_result",
          "data": {
            "text/plain": [
              "Index(['Gender', 'Age', 'Vintage', 'Is_Active', 'City_Category',\n",
              "       'Customer_Category'],\n",
              "      dtype='object')"
            ]
          },
          "metadata": {},
          "execution_count": 40
        }
      ]
    },
    {
      "cell_type": "code",
      "metadata": {
        "id": "CdasJzaGRpty"
      },
      "source": [
        "#preprocess the categorical Features \n",
        "\n",
        "def preprocess_category(train_data,test_data,column):\n",
        "    vectorizer = CountVectorizer()\n",
        "    vectorizer.fit(train_data[column])\n",
        "    \n",
        "    train_transform = vectorizer.transform(train_data[column])\n",
        "    test_transform = vectorizer.transform(test_data[column])\n",
        "    \n",
        "    return (train_transform,test_transform)\n",
        "x_train_gender,x_test_gender = preprocess_category(x_train,x_test,'Gender')"
      ],
      "execution_count": null,
      "outputs": []
    },
    {
      "cell_type": "code",
      "metadata": {
        "id": "JHy16tyEdnEa"
      },
      "source": [
        ""
      ],
      "execution_count": null,
      "outputs": []
    },
    {
      "cell_type": "code",
      "metadata": {
        "colab": {
          "base_uri": "https://localhost:8080/"
        },
        "id": "fRWtxewgRse8",
        "outputId": "11ad2e51-527e-4757-a82f-d848f2199e40"
      },
      "source": [
        "print(\"Shape of the Gender : {0}\".format(x_train_gender.shape))\n",
        "print(\"Shape of the Gender : {0}\".format(x_test_gender.shape))"
      ],
      "execution_count": null,
      "outputs": [
        {
          "output_type": "stream",
          "name": "stdout",
          "text": [
            "Shape of the Gender : (30198, 2)\n",
            "Shape of the Gender : (7550, 2)\n"
          ]
        }
      ]
    },
    {
      "cell_type": "code",
      "metadata": {
        "colab": {
          "base_uri": "https://localhost:8080/"
        },
        "id": "W_Lc7VDtR1hC",
        "outputId": "f59ffbe1-f921-46d1-d48a-1ab5db72a1d6"
      },
      "source": [
        "x_train_city_category,x_test_city_category = preprocess_category(x_train,x_test,'City_Category')\n",
        "print(\"Shape of the City Category : {0}\".format(x_train_city_category.shape))\n",
        "print(\"Shape of the City Category : {0}\".format(x_test_city_category.shape))"
      ],
      "execution_count": null,
      "outputs": [
        {
          "output_type": "stream",
          "name": "stdout",
          "text": [
            "Shape of the City Category : (30198, 2)\n",
            "Shape of the City Category : (7550, 2)\n"
          ]
        }
      ]
    },
    {
      "cell_type": "code",
      "metadata": {
        "colab": {
          "base_uri": "https://localhost:8080/"
        },
        "id": "ENXczmGNR3ec",
        "outputId": "26e0dca1-85f3-42a8-8d42-ca2583f8df1f"
      },
      "source": [
        "x_train_customer_category,x_test_customer_category = preprocess_category(x_train,x_test,'Customer_Category')\n",
        "print(\"Shape of the Customer Category : {0}\".format(x_train_customer_category.shape))\n",
        "print(\"Shape of the Customer Category : {0}\".format(x_test_customer_category.shape))"
      ],
      "execution_count": null,
      "outputs": [
        {
          "output_type": "stream",
          "name": "stdout",
          "text": [
            "Shape of the Customer Category : (30198, 3)\n",
            "Shape of the Customer Category : (7550, 3)\n"
          ]
        }
      ]
    },
    {
      "cell_type": "code",
      "metadata": {
        "id": "l6rFUIkrR8vQ"
      },
      "source": [
        "#normalize the numerical feature\n",
        "from sklearn.preprocessing import Normalizer\n",
        "def numerical_scaling(x_train,X_test,column_name):\n",
        "    train_norm = Normalizer()\n",
        "    train_norm.fit(x_train[column_name].values.reshape(-1,1))\n",
        "    x_train_norm_transform = train_norm.fit_transform(x_train[column_name].values.reshape(-1,1))\n",
        "    x_test_norm = train_norm.transform(X_test[column_name].values.reshape(-1,1))\n",
        "    print(\"After Transforming the Data Shape\")\n",
        "    print(\"Shape of the Training Feature Category : {0}\".format(x_train_norm_transform.shape))    \n",
        "    print(\"Shape of the Validation Feature Category : {0}\".format(x_test_norm.shape))\n",
        "    return (x_train_norm_transform,x_test_norm)"
      ],
      "execution_count": null,
      "outputs": []
    },
    {
      "cell_type": "code",
      "metadata": {
        "colab": {
          "base_uri": "https://localhost:8080/"
        },
        "id": "dlWzlVM5R_ZR",
        "outputId": "0fa6137a-49d2-4d21-db7b-4ef3727f7f86"
      },
      "source": [
        "x_train_age,x_test_age  = numerical_scaling(x_train,x_test,'Age')\n",
        "x_train_vintange,x_test_vintage = numerical_scaling(x_train,x_test,'Vintage')"
      ],
      "execution_count": null,
      "outputs": [
        {
          "output_type": "stream",
          "name": "stdout",
          "text": [
            "After Transforming the Data Shape\n",
            "Shape of the Training Feature Category : (30198, 1)\n",
            "Shape of the Validation Feature Category : (7550, 1)\n",
            "After Transforming the Data Shape\n",
            "Shape of the Training Feature Category : (30198, 1)\n",
            "Shape of the Validation Feature Category : (7550, 1)\n"
          ]
        }
      ]
    },
    {
      "cell_type": "code",
      "metadata": {
        "colab": {
          "base_uri": "https://localhost:8080/"
        },
        "id": "XyUwuoGjSBJD",
        "outputId": "13f90a3c-b2e4-4f1b-fd96-8876fcdb2c20"
      },
      "source": [
        "x_train_is_active = x_train['Is_Active'].to_numpy().reshape(-1,1)\n",
        "x_test_is_active = x_test['Is_Active'].to_numpy().reshape(-1,1)\n",
        "print(\"Shape of the data :{}\".format(x_train_is_active.shape))"
      ],
      "execution_count": null,
      "outputs": [
        {
          "output_type": "stream",
          "name": "stdout",
          "text": [
            "Shape of the data :(30198, 1)\n"
          ]
        }
      ]
    },
    {
      "cell_type": "code",
      "metadata": {
        "id": "IJ2_7_ZLSDZd"
      },
      "source": [
        "\n",
        "x_train_feature = hstack((x_train_gender,x_train_city_category,x_train_customer_category,x_train_age\\\n",
        "                            ,x_train_is_active,x_train_product_1)).tocsr()\n",
        "x_test_feature = hstack((x_test_gender,x_test_city_category,x_test_customer_category,x_test_age\\\n",
        "                            ,x_test_is_active,x_test_product_1)).tocsr()"
      ],
      "execution_count": null,
      "outputs": []
    },
    {
      "cell_type": "code",
      "metadata": {
        "colab": {
          "base_uri": "https://localhost:8080/"
        },
        "id": "3BAbVHJqSGv5",
        "outputId": "a189569b-adbf-4397-b4a2-93af2219bbac"
      },
      "source": [
        "print(\"Shape of the train Dataset : {0}\".format(x_train_feature.shape))\n",
        "print(\"Shape of the test Dataset : {0}\".format(x_test_feature.shape))"
      ],
      "execution_count": null,
      "outputs": [
        {
          "output_type": "stream",
          "name": "stdout",
          "text": [
            "Shape of the train Dataset : (30198, 31)\n",
            "Shape of the test Dataset : (7550, 31)\n"
          ]
        }
      ]
    },
    {
      "cell_type": "code",
      "metadata": {
        "colab": {
          "base_uri": "https://localhost:8080/"
        },
        "id": "_8gu37-mSIlC",
        "outputId": "20694696-f090-4e13-9348-ad05499c0827"
      },
      "source": [
        "print(\"Shape of test dataset : {}\".format(y_train.shape))\n",
        "print('shape of y_test dataset : {}'.format(y_test.shape))"
      ],
      "execution_count": null,
      "outputs": [
        {
          "output_type": "stream",
          "name": "stdout",
          "text": [
            "Shape of test dataset : (30198, 20)\n",
            "shape of y_test dataset : (7550, 20)\n"
          ]
        }
      ]
    },
    {
      "cell_type": "code",
      "metadata": {
        "id": "dyzcVC8eU6_P"
      },
      "source": [
        "from sklearn.metrics import  precision_score"
      ],
      "execution_count": null,
      "outputs": []
    },
    {
      "cell_type": "code",
      "metadata": {
        "colab": {
          "base_uri": "https://localhost:8080/"
        },
        "id": "aTSPplx6SLA0",
        "outputId": "9bc7e55b-5812-43af-9dce-d9549daac0c6"
      },
      "source": [
        "\n",
        "classifier = OneVsRestClassifier(SGDClassifier(loss='log', alpha=0.00001, penalty='l1'), n_jobs=-1)\n",
        "classifier.fit(x_train_feature, y_train)\n",
        "predictions = classifier.predict(x_test_feature)\n",
        "\n",
        "print(\"accuracy :\",accuracy_score(y_test,predictions))\n",
        "print(\"macro Precision score :\",precision_score(y_test, predictions, average = 'macro'))\n",
        "print(\"micro Precision score :\",precision_score(y_test, predictions, average = 'micro'))\n"
      ],
      "execution_count": null,
      "outputs": [
        {
          "output_type": "stream",
          "name": "stdout",
          "text": [
            "accuracy : 0.2589403973509934\n",
            "macro Precision score : 0.4891244941434042\n",
            "micro Precision score : 0.7033869312350325\n"
          ]
        }
      ]
    },
    {
      "cell_type": "code",
      "metadata": {
        "colab": {
          "base_uri": "https://localhost:8080/",
          "height": 404
        },
        "id": "UpRUZls6SUxB",
        "outputId": "9878a4bc-c71e-4e60-f71c-6974dc1d1f4b"
      },
      "source": [
        "#hyperparm tuning  for logistic Regression\n",
        "alpha = [10 ** x for x in range(-5, 1)]\n",
        "\n",
        "\n",
        "\n",
        "test_error = []\n",
        "for i in alpha:\n",
        "    classifier = OneVsRestClassifier(SGDClassifier(loss='log', alpha=i, penalty='l1'), n_jobs=-1)\n",
        "    classifier.fit(x_train_feature, y_train)\n",
        "    predictions = classifier.predict(x_test_feature)\n",
        "    micro_precision_score = precision_score(y_test, predictions, average = 'micro')\n",
        "    test_error.append(micro_precision_score)\n",
        "    print(\"For values of alpha = {} Precision Score {}\".format(i,micro_precision_score))\n",
        "\n",
        "fig, ax = plt.subplots()\n",
        "ax.plot(alpha, test_error,c='g')\n",
        "plt.grid()\n",
        "plt.title(\"Cross Validation Error for each alpha\")\n",
        "plt.xlabel(\"Alpha i's\")\n",
        "plt.ylabel(\"Error measure\")\n",
        "plt.show()\n"
      ],
      "execution_count": null,
      "outputs": [
        {
          "output_type": "stream",
          "name": "stdout",
          "text": [
            "For values of alpha = 1e-05 Precision Score 0.7238250771184903\n",
            "For values of alpha = 0.0001 Precision Score 0.67027588252744\n",
            "For values of alpha = 0.001 Precision Score 0.7375178316690443\n",
            "For values of alpha = 0.01 Precision Score 0.7313296903460837\n",
            "For values of alpha = 0.1 Precision Score 0.0\n",
            "For values of alpha = 1 Precision Score 0.0\n"
          ]
        },
        {
          "output_type": "display_data",
          "data": {
            "image/png": "[encoded data removed]",
            "text/plain": [
              "<Figure size 432x288 with 1 Axes>"
            ]
          },
          "metadata": {
            "needs_background": "light"
          }
        }
      ]
    },
    {
      "cell_type": "code",
      "metadata": {
        "colab": {
          "base_uri": "https://localhost:8080/",
          "height": 404
        },
        "id": "u-F_TO8uVohG",
        "outputId": "57174516-79b0-4ee2-da09-67d521d67e66"
      },
      "source": [
        "#hyperparm tuning  for logistic Regression\n",
        "alpha = [10 ** x for x in range(-5, 1)]\n",
        "\n",
        "test_error = []\n",
        "for i in alpha:\n",
        "    classifier = OneVsRestClassifier(SGDClassifier(loss='log', alpha=i, penalty='l1'), n_jobs=-1)\n",
        "    classifier.fit(x_train_feature, y_train)\n",
        "    predictions = classifier.predict(x_test_feature)\n",
        "    micro_precision_score = precision_score(y_test, predictions, average = 'micro')\n",
        "    test_error.append(micro_precision_score)\n",
        "    print(\"For values of alpha = {} Precision Score {}\".format(i,micro_precision_score))\n",
        "\n",
        "fig, ax = plt.subplots()\n",
        "ax.plot(alpha, test_error,c='g')\n",
        "plt.grid()\n",
        "plt.title(\"Cross Validation Error for each alpha\")\n",
        "plt.xlabel(\"Alpha i's\")\n",
        "plt.ylabel(\"Error measure\")\n",
        "plt.show()\n"
      ],
      "execution_count": null,
      "outputs": [
        {
          "output_type": "stream",
          "name": "stdout",
          "text": [
            "For values of alpha = 1e-05 Precision Score 0.6974367855905784\n",
            "For values of alpha = 0.0001 Precision Score 0.7031865965834428\n",
            "For values of alpha = 0.001 Precision Score 0.7279411764705882\n",
            "For values of alpha = 0.01 Precision Score 0.7313296903460837\n",
            "For values of alpha = 0.1 Precision Score 0.0\n",
            "For values of alpha = 1 Precision Score 0.0\n"
          ]
        },
        {
          "output_type": "display_data",
          "data": {
            "image/png": "[encoded data removed]",
            "text/plain": [
              "<Figure size 432x288 with 1 Axes>"
            ]
          },
          "metadata": {
            "needs_background": "light"
          }
        }
      ]
    },
    {
      "cell_type": "code",
      "metadata": {
        "colab": {
          "base_uri": "https://localhost:8080/",
          "height": 404
        },
        "id": "GH28VkjYV7FX",
        "outputId": "8164f1fd-6880-4378-cce7-898dd95aeb59"
      },
      "source": [
        "#hyperparm tuning  for logistic Regression\n",
        "alpha = [10 ** x for x in range(-5, 1)]\n",
        "\n",
        "\n",
        "test_error = []\n",
        "for i in alpha:\n",
        "    classifier = OneVsRestClassifier(SGDClassifier(loss='hinge', alpha=i, penalty='l1'), n_jobs=-1)\n",
        "    classifier.fit(x_train_feature, y_train)\n",
        "    predictions = classifier.predict(x_test_feature)\n",
        "    micro_precision_score = precision_score(y_test, predictions, average = 'micro')\n",
        "    test_error.append(micro_precision_score)\n",
        "    print(\"For values of alpha = {} Precision {}\".format(i,micro_precision_score))\n",
        "\n",
        "fig, ax = plt.subplots()\n",
        "ax.plot(alpha, test_error,c='g')\n",
        "plt.grid()\n",
        "plt.title(\"Cross Validation Error for each alpha\")\n",
        "plt.xlabel(\"Alpha i's\")\n",
        "plt.ylabel(\"Error measure\")\n",
        "plt.show()\n"
      ],
      "execution_count": null,
      "outputs": [
        {
          "output_type": "stream",
          "name": "stdout",
          "text": [
            "For values of alpha = 1e-05 Precision 0.6918604651162791\n",
            "For values of alpha = 0.0001 Precision 0.7364850540597837\n",
            "For values of alpha = 0.001 Precision 0.7236842105263158\n",
            "For values of alpha = 0.01 Precision 0.7125935162094763\n",
            "For values of alpha = 0.1 Precision 0.0\n",
            "For values of alpha = 1 Precision 0.0\n"
          ]
        },
        {
          "output_type": "display_data",
          "data": {
            "image/png": "[encoded data removed]",
            "text/plain": [
              "<Figure size 432x288 with 1 Axes>"
            ]
          },
          "metadata": {
            "needs_background": "light"
          }
        }
      ]
    },
    {
      "cell_type": "code",
      "metadata": {
        "colab": {
          "base_uri": "https://localhost:8080/",
          "height": 404
        },
        "id": "pGNUR8DqWStC",
        "outputId": "e89d2fd8-bfa8-43ef-9cc9-8bdb80364d3a"
      },
      "source": [
        "#hyperparm tuning  for logistic Regression\n",
        "alpha = [10 ** x for x in range(-5, 1)]\n",
        "\n",
        "\n",
        "\n",
        "test_error = []\n",
        "for i in alpha:\n",
        "    classifier = OneVsRestClassifier(LogisticRegression( C =i, penalty='l1',solver = 'liblinear'), n_jobs=-1)\n",
        "    classifier.fit(x_train_feature, y_train)\n",
        "    predictions = classifier.predict(x_test_feature)\n",
        "    micro_precision_score = precision_score(y_test, predictions, average = 'micro')\n",
        "    test_error.append(micro_precision_score)\n",
        "    print(\"For values of alpha = {} Precision {}\".format(i,micro_precision_score))\n",
        "\n",
        "fig, ax = plt.subplots()\n",
        "ax.plot(alpha, test_error,c='g')\n",
        "plt.grid()\n",
        "plt.title(\"Cross Validation Error for each alpha\")\n",
        "plt.xlabel(\"Alpha i's\")\n",
        "plt.ylabel(\"Error measure\")\n",
        "plt.show()\n"
      ],
      "execution_count": null,
      "outputs": [
        {
          "output_type": "stream",
          "name": "stdout",
          "text": [
            "For values of alpha = 1e-05 Precision 0.0\n",
            "For values of alpha = 0.0001 Precision 0.0\n",
            "For values of alpha = 0.001 Precision 0.0\n",
            "For values of alpha = 0.01 Precision 0.7513430544896393\n",
            "For values of alpha = 0.1 Precision 0.7301115241635687\n",
            "For values of alpha = 1 Precision 0.7212679298742696\n"
          ]
        },
        {
          "output_type": "display_data",
          "data": {
            "image/png": "[encoded data removed]",
            "text/plain": [
              "<Figure size 432x288 with 1 Axes>"
            ]
          },
          "metadata": {
            "needs_background": "light"
          }
        }
      ]
    },
    {
      "cell_type": "code",
      "metadata": {
        "id": "hxK35VQbXJRU"
      },
      "source": [
        "x_train['Age'] = x_train['Age'].astype(float)\n",
        "x_test['Age'] = x_test['Age'].astype(float)\n",
        "\n",
        "x_train['Vintage'] = x_train['Vintage'].astype(float)\n",
        "x_test['Vintage'] = x_test['Vintage'].astype(float)"
      ],
      "execution_count": null,
      "outputs": []
    },
    {
      "cell_type": "code",
      "metadata": {
        "colab": {
          "base_uri": "https://localhost:8080/"
        },
        "id": "Bt3q5TKqWiAr",
        "outputId": "97f3116d-27ca-41ed-b71c-0ff8008f7964"
      },
      "source": [
        "x_train_is_active = x_train['Is_Active'].to_numpy().reshape(-1,1)\n",
        "x_test_is_active = x_test['Is_Active'].to_numpy().reshape(-1,1)\n",
        "\n",
        "X_train_age = x_train['Age'].to_numpy().reshape(-1,1)\n",
        "x_test_age = x_test['Age'].to_numpy().reshape(-1,1)\n",
        "\n",
        "x_train_vintange = x_train['Vintage'].to_numpy().reshape(-1,1)\n",
        "x_test_vintage = x_test['Vintage'].to_numpy().reshape(-1,1)\n",
        "print(\"Shape of the data :{}\".format(x_train_is_active.shape))\n",
        "x_train_feature = hstack((x_train_gender,x_train_city_category,x_train_customer_category,x_train_age\\\n",
        "                            ,x_train_is_active,x_train_product_1)).tocsr()\n",
        "x_test_feature = hstack((x_test_gender,x_test_city_category,x_test_customer_category,x_test_age\\\n",
        "                            ,x_test_is_active,x_test_product_1)).tocsr()"
      ],
      "execution_count": null,
      "outputs": [
        {
          "output_type": "stream",
          "name": "stdout",
          "text": [
            "Shape of the data :(30198, 1)\n"
          ]
        }
      ]
    },
    {
      "cell_type": "code",
      "metadata": {
        "colab": {
          "base_uri": "https://localhost:8080/"
        },
        "id": "ylDSjGnzlY0T",
        "outputId": "c6376667-2227-495f-fee8-b7c701d10d81"
      },
      "source": [
        "%%time \n",
        "import time\n",
        "import lightgbm as lgb"
      ],
      "execution_count": null,
      "outputs": [
        {
          "output_type": "stream",
          "name": "stdout",
          "text": [
            "CPU times: user 22.7 ms, sys: 3.24 ms, total: 25.9 ms\n",
            "Wall time: 55.7 ms\n"
          ]
        }
      ]
    },
    {
      "cell_type": "code",
      "metadata": {
        "colab": {
          "base_uri": "https://localhost:8080/",
          "height": 370
        },
        "id": "T2_H11_iXFdY",
        "outputId": "35b50608-682c-41a8-bf7f-6c98f3c76e94"
      },
      "source": [
        "\n",
        "train_scores = []\n",
        "test_scores = []\n",
        "#hyper param tuning \n",
        "start_time = time.time()\n",
        "n_estimators=[10,20,30]\n",
        "for estimator in n_estimators:\n",
        "    \n",
        "    lgbm  = OneVsRestClassifier(lgb.LGBMClassifier(learning_rate=0.1,n_estimators = estimator,max_depth= -1,random_state=314, silent=True, metric='None', n_jobs=4,\n",
        "                         min_child_samples = 100,reg_alpha = 1e-1 , reg_lambda = 1e-1),n_jobs = -1)\n",
        "    lgbm.fit(x_train_feature, y_train)\n",
        "    train_pred = lgbm.predict(x_train_feature)\n",
        "    train_precision_score = precision_score(y_train,train_pred,average= 'micro')\n",
        "    test_pred =lgbm.predict(x_test_feature)\n",
        "    test_precision_score = precision_score(y_test,test_pred,average= 'micro')\n",
        "    test_scores.append(train_precision_score)\n",
        "    train_scores.append(test_precision_score)\n",
        "    \n",
        "    print('Estimators = ',estimator,'Train Score',train_precision_score,'test Score',test_precision_score)\n",
        "print(\"Time Estimate : {0}\".format(time.time() - start_time))\n",
        "plt.plot(n_estimators,train_scores,label='Train Score')\n",
        "plt.plot(n_estimators,test_scores,label='Test Score')\n",
        "plt.xlabel('Estimators')\n",
        "plt.ylabel('Score')"
      ],
      "execution_count": null,
      "outputs": [
        {
          "output_type": "stream",
          "name": "stdout",
          "text": [
            "Estimators =  10 Train Score 0.8122735332665176 test Score 0.8160146699266504\n",
            "Estimators =  20 Train Score 0.768059351815697 test Score 0.7747302158273381\n",
            "Estimators =  30 Train Score 0.756040490360649 test Score 0.7564575645756457\n",
            "Time Estimate : 12.871867895126343\n"
          ]
        },
        {
          "output_type": "execute_result",
          "data": {
            "text/plain": [
              "Text(0, 0.5, 'Score')"
            ]
          },
          "metadata": {},
          "execution_count": 61
        },
        {
          "output_type": "display_data",
          "data": {
            "image/png": "[encoded data removed]",
            "text/plain": [
              "<Figure size 432x288 with 1 Axes>"
            ]
          },
          "metadata": {
            "needs_background": "light"
          }
        }
      ]
    },
    {
      "cell_type": "code",
      "metadata": {
        "id": "gY8-7Uz0Xe5a"
      },
      "source": [
        "depths=[3,9,11,15,20,35,50,70,130,1000]\n",
        "\n",
        "\n",
        "train_scores = []\n",
        "test_scores = []\n",
        "#hyper param tuning \n",
        "best_estimator = 10\n",
        "start_time = time.time()\n",
        "for depth in depths:\n",
        "    \n",
        "    lgbm  = OneVsRestClassifier(lgb.LGBMClassifier(learning_rate=0.1,n_estimators = best_estimator,max_depth= depth,random_state=314, silent=True, metric='None', n_jobs=4,\n",
        "                         min_child_samples = 100,reg_alpha = 1e-1 , reg_lambda = 1e-1),n_jobs = -1)\n",
        "    lgbm.fit(x_train_feature, y_train)\n",
        "    train_pred = lgbm.predict(x_train_feature)\n",
        "    train_precision_score = precision_score(y_train,train_pred,average= 'micro')\n",
        "    test_pred =lgbm.predict(x_test_feature)\n",
        "    test_precision_score = precision_score(y_test,test_pred,average= 'micro')\n",
        "    test_scores.append(train_precision_score)\n",
        "    train_scores.append(test_precision_score)\n",
        "    \n",
        "    print('Depth = ',depth,'Train Score',train_precision_score,'test Score',test_precision_score)\n",
        "print(\"Time Estimate : {0}\".format(time.time() - start_time))\n",
        "plt.plot(depths,train_scores,label='Train Score')\n",
        "plt.plot(depths,test_scores,label='Test Score')\n",
        "plt.xlabel('Depth')\n",
        "plt.ylabel('Score')"
      ],
      "execution_count": null,
      "outputs": []
    },
    {
      "cell_type": "code",
      "metadata": {
        "id": "oTA0tfYHZ9bz"
      },
      "source": [
        "learning_rate = [0.0001, 0.001, 0.01, 0.1, 0.2, 0.3]\n",
        "\n",
        "\n",
        "train_scores = []\n",
        "test_scores = []\n",
        "#hyper param tuning \n",
        "best_estimator = 10\n",
        "best_depth = 3\n",
        "start_time = time.time()\n",
        "for lr in learning_rate:\n",
        "    \n",
        "    lgbm  = OneVsRestClassifier(lgb.LGBMClassifier(learning_rate=lr,n_estimators = best_estimator,max_depth= best_depth,random_state=314, silent=True, metric='None', n_jobs=4,\n",
        "                         min_child_samples = 100,reg_alpha = 1e-1 , reg_lambda = 1e-1),n_jobs = -1)\n",
        "    lgbm.fit(x_train_feature, y_train)\n",
        "    train_pred = lgbm.predict(x_train_feature)\n",
        "    train_precision_score = precision_score(y_train,train_pred,average= 'micro')\n",
        "    test_pred =lgbm.predict(x_test_feature)\n",
        "    test_precision_score = precision_score(y_test,test_pred,average= 'micro')\n",
        "    test_scores.append(train_precision_score)\n",
        "    train_scores.append(test_precision_score)\n",
        "    \n",
        "    print('learning_rate = ',lr,'Train Score',train_precision_score,'test Score',test_precision_score)\n",
        "print(\"Time Estimate : {0}\".format(time.time() - start_time))\n",
        "plt.plot(learning_rate,train_scores,label='Train Score')\n",
        "plt.plot(learning_rate,test_scores,label='Test Score')\n",
        "plt.xlabel('Learning Rate')\n",
        "plt.ylabel('Score')"
      ],
      "execution_count": null,
      "outputs": []
    },
    {
      "cell_type": "code",
      "metadata": {
        "id": "v_l6hzhqbAFA"
      },
      "source": [
        "reg_alpha =  [0, 1e-1, 1, 2, 5, 7, 10, 50, 100]\n",
        "\n",
        "\n",
        "\n",
        "train_scores = []\n",
        "test_scores = []\n",
        "#hyper param tuning \n",
        "best_estimator = 10\n",
        "best_depth = 3\n",
        "best_lr = 0.1\n",
        "start_time = time.time()\n",
        "for alpha in reg_alpha:\n",
        "    \n",
        "    lgbm  = OneVsRestClassifier(lgb.LGBMClassifier(learning_rate=best_lr,n_estimators = best_estimator,max_depth= best_depth,random_state=314, silent=True, metric='None', n_jobs=4,\n",
        "                         min_child_samples = 100,reg_alpha = alpha , reg_lambda = 1e-1),n_jobs = -1)\n",
        "    lgbm.fit(x_train_feature, y_train)\n",
        "    train_pred = lgbm.predict(x_train_feature)\n",
        "    train_precision_score = precision_score(y_train,train_pred,average= 'micro')\n",
        "    test_pred =lgbm.predict(x_test_feature)\n",
        "    test_precision_score = precision_score(y_test,test_pred,average= 'micro')\n",
        "    test_scores.append(train_precision_score)\n",
        "    train_scores.append(test_precision_score)\n",
        "    \n",
        "    print('Reg_alpha = ',alpha,'Train Score',train_precision_score,'test Score',test_precision_score)\n",
        "print(\"Time Estimate : {0}\".format(time.time() - start_time))\n",
        "plt.plot(reg_alpha,train_scores,label='Train Score')\n",
        "plt.plot(reg_alpha,test_scores,label='Test Score')\n",
        "plt.xlabel('Best Alpha')\n",
        "plt.ylabel('Score')"
      ],
      "execution_count": null,
      "outputs": []
    },
    {
      "cell_type": "code",
      "metadata": {
        "id": "Xmh7cNEvboNy"
      },
      "source": [
        "\n",
        "\n",
        "reg_lambda =  [0, 1e-1, 1, 2, 5, 7, 10, 50, 100]\n",
        "\n",
        "train_scores = []\n",
        "test_scores = []\n",
        "#hyper param tuning \n",
        "best_estimator = 10\n",
        "best_depth = 3\n",
        "best_lr = 0.1\n",
        "best_alpha = 50 \n",
        "start_time = time.time()\n",
        "for lamb in reg_lambda:\n",
        "    \n",
        "    lgbm  = OneVsRestClassifier(lgb.LGBMClassifier(learning_rate=best_lr,n_estimators = best_estimator,max_depth= best_depth,random_state=314, silent=True, metric='None', n_jobs=4,\n",
        "                         min_child_samples = 100,reg_alpha = best_alpha , reg_lambda = lamb),n_jobs = -1)\n",
        "    lgbm.fit(x_train_feature, y_train)\n",
        "    train_pred = lgbm.predict(x_train_feature)\n",
        "    train_precision_score = precision_score(y_train,train_pred,average= 'micro')\n",
        "    test_pred =lgbm.predict(x_test_feature)\n",
        "    test_precision_score = precision_score(y_test,test_pred,average= 'micro')\n",
        "    test_scores.append(train_precision_score)\n",
        "    train_scores.append(test_precision_score)\n",
        "    \n",
        "    print('Reg_alpha = ',lamb,'Train Score',train_precision_score,'test Score',test_precision_score)\n",
        "print(\"Time Estimate : {0}\".format(time.time() - start_time))\n",
        "plt.plot(reg_lambda,train_scores,label='Train Score')\n",
        "plt.plot(reg_lambda,test_scores,label='Test Score')\n",
        "plt.xlabel('Best Lambda')\n",
        "plt.ylabel('Score')"
      ],
      "execution_count": null,
      "outputs": []
    },
    {
      "cell_type": "markdown",
      "metadata": {
        "id": "6XqL7MqVc_3p"
      },
      "source": [
        "# Final Model Submission"
      ]
    },
    {
      "cell_type": "code",
      "metadata": {
        "colab": {
          "base_uri": "https://localhost:8080/"
        },
        "id": "eAKrWZOkcwhv",
        "outputId": "da087854-fef6-4809-a812-02136376acdb"
      },
      "source": [
        "x_train_gender,x_test_gender = preprocess_category(data_frame,data_frame_test,'Gender')\n",
        "print(\"Shape of the Gender : {0}\".format(x_train_gender.shape))\n",
        "print(\"Shape of the Gender : {0}\".format(x_test_gender.shape))\n",
        "\n",
        "x_train_city_category,x_test_city_category = preprocess_category(data_frame,data_frame_test,'City_Category')\n",
        "print(\"Shape of the City Category : {0}\".format(x_train_city_category.shape))\n",
        "print(\"Shape of the City Category : {0}\".format(x_test_city_category.shape))\n",
        "\n",
        "x_train_customer_category,x_test_customer_category = preprocess_category(data_frame,data_frame_test,'Customer_Category')\n",
        "print(\"Shape of the Customer Category : {0}\".format(x_train_customer_category.shape))\n",
        "print(\"Shape of the Customer Category : {0}\".format(x_test_customer_category.shape))\n",
        "\n",
        "x_train_is_active = data_frame['Is_Active'].to_numpy().reshape(-1,1)\n",
        "x_test_is_active = data_frame_test['Is_Active'].to_numpy().reshape(-1,1)\n",
        "\n",
        "X_train_age = data_frame['Age'].to_numpy().reshape(-1,1)\n",
        "x_test_age = data_frame_test['Age'].to_numpy().reshape(-1,1)\n",
        "\n",
        "x_train_vintange = data_frame['Vintage'].to_numpy().reshape(-1,1)\n",
        "x_test_vintage = data_frame_test['Vintage'].to_numpy().reshape(-1,1)\n",
        "print(\"Shape of the data :{}\".format(x_train_is_active.shape))\n",
        "x_train_feature = hstack((x_train_gender,x_train_city_category,x_train_customer_category,X_train_age\\\n",
        "                            ,x_train_is_active,multilabel_product_x)).tocsr()\n",
        "x_test_feature = hstack((x_test_gender,x_test_city_category,x_test_customer_category,x_test_age\\\n",
        "                            ,x_test_is_active,test_multilabel_product_x)).tocsr()"
      ],
      "execution_count": null,
      "outputs": [
        {
          "output_type": "stream",
          "name": "stdout",
          "text": [
            "Shape of the Gender : (37748, 2)\n",
            "Shape of the Gender : (20327, 2)\n",
            "Shape of the City Category : (37748, 2)\n",
            "Shape of the City Category : (20327, 2)\n",
            "Shape of the Customer Category : (37748, 3)\n",
            "Shape of the Customer Category : (20327, 3)\n",
            "Shape of the data :(37748, 1)\n"
          ]
        }
      ]
    },
    {
      "cell_type": "code",
      "metadata": {
        "id": "oRkXgAwSixvK"
      },
      "source": [
        "x_train_feature = x_train_feature[:30000]\n",
        "y_train = y_train[:30000]"
      ],
      "execution_count": null,
      "outputs": []
    },
    {
      "cell_type": "code",
      "metadata": {
        "colab": {
          "base_uri": "https://localhost:8080/"
        },
        "id": "EUoFg0s6hpNd",
        "outputId": "603eef6f-fbcd-4d28-9c01-5cd9d8a25ac9"
      },
      "source": [
        "y_train = multilabel_y\n",
        "print(\"Shape of the data : {}\".format(y_train.shape))"
      ],
      "execution_count": null,
      "outputs": [
        {
          "output_type": "stream",
          "name": "stdout",
          "text": [
            "Shape of the data : (37748, 20)\n"
          ]
        }
      ]
    },
    {
      "cell_type": "code",
      "metadata": {
        "id": "t9yyE-BQguA4"
      },
      "source": [
        "def model_final():\n",
        "\n",
        "  best_estimator = 10\n",
        "  best_depth = 3\n",
        "  best_lr = 0.1\n",
        "  best_alpha = 50 \n",
        "  lgbm  = OneVsRestClassifier(lgb.LGBMClassifier(learning_rate=best_lr,n_estimators = best_estimator,max_depth= best_depth,random_state=314, silent=True, metric='None', \n",
        "                         min_child_samples = 100,reg_alpha = best_alpha , reg_lambda = 50))\n",
        "  lgbm.fit(x_train_feature, y_train)\n",
        "  train_pred = lgbm.predict(x_train_feature)\n",
        "  train_precision_score = precision_score(y_train,train_pred,average= 'micro')\n",
        "  test_pred =lgbm.predict(x_test_feature)\n",
        "\n"
      ],
      "execution_count": null,
      "outputs": []
    },
    {
      "cell_type": "code",
      "metadata": {
        "id": "87zcXP5ZgJuO"
      },
      "source": [
        "model_final()"
      ],
      "execution_count": null,
      "outputs": []
    },
    {
      "cell_type": "code",
      "metadata": {
        "id": "3AmZjaRVia6R"
      },
      "source": [
        ""
      ],
      "execution_count": null,
      "outputs": []
    }
  ]
}